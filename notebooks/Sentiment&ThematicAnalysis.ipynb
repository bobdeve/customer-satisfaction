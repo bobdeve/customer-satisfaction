{
 "cells": [
  {
   "cell_type": "code",
   "execution_count": 10,
   "metadata": {},
   "outputs": [
    {
     "name": "stderr",
     "output_type": "stream",
     "text": [
      "Device set to use cpu\n"
     ]
    },
    {
     "name": "stdout",
     "output_type": "stream",
     "text": [
      "                                              review sentiment_label  \\\n",
      "0  \"Why don’t your ATMs support account-to-accoun...        negative   \n",
      "1                        what is this app problem???        negative   \n",
      "2       the app is proactive and a good connections.        positive   \n",
      "3    I cannot send to cbebirr app. through this app.        negative   \n",
      "4                                               good        positive   \n",
      "\n",
      "   sentiment_score  \n",
      "0         0.996465  \n",
      "1         0.999623  \n",
      "2         0.999868  \n",
      "3         0.995335  \n",
      "4         0.999816  \n"
     ]
    }
   ],
   "source": [
    "from nltk.sentiment import SentimentIntensityAnalyzer\n",
    "import pandas as pd\n",
    "from transformers import pipeline\n",
    "\n",
    "\n",
    "# Load your cleaned CSV\n",
    "# Step 2: Load your cleaned reviews dataset\n",
    "# Replace 'cleaned_reviews.csv' with your actual file name if it's different\n",
    "\n",
    "\n",
    "\n",
    "df = pd.read_csv('../data/raw/banks_review_cleaned.csv')\n",
    "# Display the first few rows to understand the structure\n",
    "df.head(50)\n",
    "\n",
    "\n",
    "# Step 3: Load the pre-trained sentiment analysis pipeline from HuggingFace Transformers\n",
    "# We're using a lightweight BERT model fine-tuned on SST-2 dataset for binary sentiment (positive/negative)\n",
    "sentiment_pipeline = pipeline(\"sentiment-analysis\", model=\"distilbert-base-uncased-finetuned-sst-2-english\")\n",
    "\n",
    "# Step 4: Prepare review text\n",
    "# Ensure the review column is in string format and truncate long reviews to the first 512 characters\n",
    "# (Transformer models like BERT have a max token limit, usually around 512 tokens)\n",
    "df['short_review'] = df['review'].astype(str).str[:512]\n",
    "\n",
    "# Step 5: Apply the sentiment analysis pipeline to each review\n",
    "# This will return a dictionary with 'label' (POSITIVE or NEGATIVE) and 'score' (confidence)\n",
    "df['sentiment_result'] = df['short_review'].apply(lambda x: sentiment_pipeline(x)[0])\n",
    "\n",
    "# Step 6: Extract 'label' and 'score' from the result dictionary into separate columns\n",
    "df['sentiment_label'] = df['sentiment_result'].apply(lambda x: x['label'])  # POSITIVE or NEGATIVE\n",
    "df['sentiment_score'] = df['sentiment_result'].apply(lambda x: x['score'])  # Confidence score\n",
    "\n",
    "# Optional: Convert label to lowercase for consistency\n",
    "df['sentiment_label'] = df['sentiment_label'].str.lower()\n",
    "\n",
    "# Step 7: Preview the result\n",
    "print(df[['review', 'sentiment_label', 'sentiment_score']].head())\n",
    "\n",
    "# Step 8: Save the result to a new CSV for later use (e.g. thematic analysis)\n",
    "df.to_csv(\"../data/processed/bank_reviews_with_sentiment.csv\", index=False)\n",
    "\n",
    "\n",
    "\n"
   ]
  },
  {
   "cell_type": "code",
   "execution_count": null,
   "metadata": {},
   "outputs": [],
   "source": []
  }
 ],
 "metadata": {
  "kernelspec": {
   "display_name": "webscraper",
   "language": "python",
   "name": "python3"
  },
  "language_info": {
   "codemirror_mode": {
    "name": "ipython",
    "version": 3
   },
   "file_extension": ".py",
   "mimetype": "text/x-python",
   "name": "python",
   "nbconvert_exporter": "python",
   "pygments_lexer": "ipython3",
   "version": "3.13.3"
  }
 },
 "nbformat": 4,
 "nbformat_minor": 2
}
