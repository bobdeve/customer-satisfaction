{
 "cells": [
  {
   "cell_type": "code",
   "execution_count": 1,
   "metadata": {},
   "outputs": [],
   "source": [
    "import pandas as pd\n",
    "\n",
    "# Load your Google Play Store reviews dataset\n",
    "df = pd.read_csv(\"../data/raw/banks_review_cleaned.csv\")\n",
    "\n",
    "# Drop missing values\n",
    "df = df.dropna(subset=['review'])\n",
    "reviews = df['review'].tolist()\n"
   ]
  },
  {
   "cell_type": "code",
   "execution_count": 2,
   "metadata": {},
   "outputs": [],
   "source": [
    "import nltk\n",
    "from nltk.corpus import stopwords\n",
    "from nltk.tokenize import word_tokenize\n",
    "import spacy\n",
    "\n",
    "nlp = spacy.load(\"en_core_web_sm\")\n",
    "stop_words = set(stopwords.words('english'))\n",
    "\n",
    "def preprocess(text):\n",
    "    doc = nlp(text.lower())\n",
    "    return [token.lemma_ for token in doc if token.text.isalpha() and token.text not in stop_words and not token.is_stop]\n",
    "\n",
    "# Apply to all reviews\n",
    "processed_reviews = [preprocess(review) for review in reviews]\n"
   ]
  },
  {
   "cell_type": "code",
   "execution_count": 3,
   "metadata": {},
   "outputs": [],
   "source": [
    "# Import necessary libraries\n",
    "import pandas as pd\n",
    "import nltk\n",
    "from nltk.corpus import stopwords\n",
    "import spacy\n"
   ]
  },
  {
   "cell_type": "code",
   "execution_count": 4,
   "metadata": {},
   "outputs": [
    {
     "name": "stderr",
     "output_type": "stream",
     "text": [
      "[nltk_data] Downloading package stopwords to\n",
      "[nltk_data]     C:\\Users\\Bob\\AppData\\Roaming\\nltk_data...\n",
      "[nltk_data]   Package stopwords is already up-to-date!\n",
      "[nltk_data] Downloading package punkt to\n",
      "[nltk_data]     C:\\Users\\Bob\\AppData\\Roaming\\nltk_data...\n",
      "[nltk_data]   Package punkt is already up-to-date!\n"
     ]
    },
    {
     "data": {
      "text/plain": [
       "True"
      ]
     },
     "execution_count": 4,
     "metadata": {},
     "output_type": "execute_result"
    }
   ],
   "source": [
    "# Load spaCy English model\n",
    "import en_core_web_sm\n",
    "nlp = en_core_web_sm.load()\n",
    "\n",
    "# Download NLTK stopwords and tokenizer\n",
    "nltk.download('stopwords')\n",
    "nltk.download('punkt')"
   ]
  },
  {
   "cell_type": "code",
   "execution_count": 5,
   "metadata": {},
   "outputs": [],
   "source": [
    "# Load the dataset\n",
    "df = pd.read_csv(\"../data/raw/banks_review_cleaned.csv\")\n",
    "\n",
    "# Drop missing review entries\n",
    "df = df.dropna(subset=['review'])\n",
    "\n",
    "# Extract reviews into a list\n",
    "reviews = df['review'].tolist()\n"
   ]
  },
  {
   "cell_type": "code",
   "execution_count": 6,
   "metadata": {},
   "outputs": [],
   "source": [
    "# Set of English stop words\n",
    "stop_words = set(stopwords.words('english'))\n",
    "\n",
    "# Function to preprocess a single review\n",
    "def preprocess(text):\n",
    "    doc = nlp(text.lower())  # Lowercase and tokenize using spaCy\n",
    "    return [\n",
    "        token.lemma_           # Lemmatized form\n",
    "        for token in doc\n",
    "        if token.text.isalpha()       # Keep only alphabetic tokens\n",
    "        and token.text not in stop_words  # Exclude NLTK stopwords\n",
    "        and not token.is_stop         # Exclude spaCy's stopwords\n",
    "    ]\n"
   ]
  },
  {
   "cell_type": "code",
   "execution_count": 7,
   "metadata": {},
   "outputs": [
    {
     "data": {
      "text/plain": [
       "[['atms',\n",
       "  'support',\n",
       "  'account',\n",
       "  'account',\n",
       "  'transfer',\n",
       "  'like',\n",
       "  'country',\n",
       "  'kenya',\n",
       "  'nigeria',\n",
       "  'south',\n",
       "  'africa'],\n",
       " ['app', 'problem'],\n",
       " ['app', 'proactive', 'good', 'connection'],\n",
       " ['send', 'cbebirr', 'app', 'app'],\n",
       " ['good']]"
      ]
     },
     "execution_count": 7,
     "metadata": {},
     "output_type": "execute_result"
    }
   ],
   "source": [
    "# Apply preprocessing function to all reviews\n",
    "processed_reviews = [preprocess(review) for review in reviews]\n",
    "\n",
    "# Optional: Display first few processed reviews\n",
    "processed_reviews[:5]\n"
   ]
  }
 ],
 "metadata": {
  "kernelspec": {
   "display_name": "webscraper",
   "language": "python",
   "name": "python3"
  },
  "language_info": {
   "codemirror_mode": {
    "name": "ipython",
    "version": 3
   },
   "file_extension": ".py",
   "mimetype": "text/x-python",
   "name": "python",
   "nbconvert_exporter": "python",
   "pygments_lexer": "ipython3",
   "version": "3.13.3"
  }
 },
 "nbformat": 4,
 "nbformat_minor": 2
}
